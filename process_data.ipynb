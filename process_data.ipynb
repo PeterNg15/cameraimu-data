{
 "cells": [
  {
   "cell_type": "code",
   "execution_count": 1,
   "metadata": {},
   "outputs": [],
   "source": [
    "import csv\n",
    "import math\n",
    "import numpy as np\n",
    "import cv2"
   ]
  },
  {
   "cell_type": "markdown",
   "metadata": {},
   "source": [
    "### Processing gyroscope, accelerometer, and magnetometer data here\n",
    "This means removing the unecessary rows"
   ]
  },
  {
   "cell_type": "code",
   "execution_count": 13,
   "metadata": {},
   "outputs": [],
   "source": [
    "def processData(fileName, sensorType):\n",
    "\n",
    "    time_file = open('visualization/data/X_rotation/' + fileName + '_timestamps.csv', 'r')\n",
    "    data_file = open('visualization/data/X_rotation/' + fileName + sensorType + '.csv', 'r')\n",
    "\n",
    "    data_processed = open('visualization/data/X_rotation/' + fileName + sensorType + '_mod.csv',  'w+', newline=\"\")\n",
    "\n",
    "    time_reader = csv.reader(time_file)\n",
    "    data_reader = csv.reader(data_file)\n",
    "\n",
    "    writer = csv.writer(data_processed)\n",
    "\n",
    "    \"\"\"Loop through the time data file and the gyro file; Then add the ones in gyro that have closest timestamp to the timestamp file\"\"\"\n",
    "    #Time list\n",
    "    time_list = list(time_reader)\n",
    "    frame_counter = 0\n",
    "\n",
    "    \"\"\"GYRO/ACC/MAG\"\"\"\n",
    "    data_processed = list() #This will be the list we will export as a CSV\n",
    "    data_set = set() #Only add matched timestamp here\n",
    "\n",
    "    for row in data_reader:\n",
    "        if frame_counter == len(time_list):\n",
    "            break\n",
    "\n",
    "        target_time = int(time_list[frame_counter][0]) #This will get the target timestamp\n",
    "        if len(data_processed) == 0:\n",
    "            data_processed.append(row)\n",
    "            continue\n",
    "        \n",
    "        #   If the current time from gyro_csv file has a smaller time difference than that in the\n",
    "        #   data_processed list. Then we replace\n",
    "        if (abs(int(row[3]) - target_time) < abs(int(data_processed[-1][3]) - target_time)):\n",
    "            #Check set to see if previous time is already matched; We don't want it to be matched already\n",
    "            if int(data_processed[-1][3]) not in data_set:\n",
    "                #Replace with timestamp that has smaller time diff\n",
    "                data_processed[-1] = row \n",
    "        else:\n",
    "            #Add last element in the processed list to the data_set to confirm it's been matched\n",
    "            frame_counter += 1\n",
    "            data_set.add(int(data_processed[-1][3]))\n",
    "            #Add this element to the CSV file as well\n",
    "            writer.writerow(data_processed[-1])\n",
    "            #Then add current row to data_processed\n",
    "            data_processed.append(row)\n",
    "\n",
    "    assert(len(data_processed)-1 == len(time_list))\n",
    "\n",
    "    time_file.close()\n",
    "    data_file.close()\n"
   ]
  },
  {
   "cell_type": "code",
   "execution_count": 14,
   "metadata": {},
   "outputs": [],
   "source": [
    "fileName = \"VID_20220617_142807\"\n",
    "sensors = [\"gyro\", \"accel\", \"magnetic\"]\n",
    "# sensors = [\"orientation\"]\n",
    "\n",
    "for sensor in sensors:\n",
    "    processData(fileName=fileName, sensorType=sensor)"
   ]
  }
 ],
 "metadata": {
  "interpreter": {
   "hash": "fdc0ec388fb84f2b452f3beaed96b3d66d8f92940ccc41d2ca9412cc69c57c23"
  },
  "kernelspec": {
   "display_name": "Python 3.7.11 ('tensorflow')",
   "language": "python",
   "name": "python3"
  },
  "language_info": {
   "codemirror_mode": {
    "name": "ipython",
    "version": 3
   },
   "file_extension": ".py",
   "mimetype": "text/x-python",
   "name": "python",
   "nbconvert_exporter": "python",
   "pygments_lexer": "ipython3",
   "version": "3.7.11"
  },
  "orig_nbformat": 4
 },
 "nbformat": 4,
 "nbformat_minor": 2
}
