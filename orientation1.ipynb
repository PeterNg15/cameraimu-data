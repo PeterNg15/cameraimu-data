{
 "cells": [
  {
   "cell_type": "code",
   "execution_count": 29,
   "metadata": {},
   "outputs": [],
   "source": [
    "import csv\n",
    "import math\n",
    "import numpy as np\n",
    "import cv2"
   ]
  },
  {
   "cell_type": "code",
   "execution_count": 16,
   "metadata": {},
   "outputs": [],
   "source": [
    "def nanoToSecond(nano):\n",
    "    return nano / 1e9"
   ]
  },
  {
   "cell_type": "code",
   "execution_count": 31,
   "metadata": {},
   "outputs": [],
   "source": [
    "def nanoToMilli(nano):\n",
    "    return nano / 1e6"
   ]
  },
  {
   "cell_type": "code",
   "execution_count": 19,
   "metadata": {},
   "outputs": [],
   "source": [
    "def getOrientation(orientation_curr, gyro, t_prev, t_curr):\n",
    "    dt = nanoToSecond(t_curr - t_prev)\n",
    "    orientation = np.array(orientation_curr + gyro * dt)\n",
    "\n",
    "    for i in range(3):\n",
    "        while orientation[i] >= (2*math.pi):\n",
    "            orientation[i] -= (2*math.pi)\n",
    "        while orientation[i] <= -(2*math.pi):\n",
    "            orientation[i] += (2*math.pi)            \n",
    "\n",
    "    return orientation"
   ]
  },
  {
   "cell_type": "markdown",
   "metadata": {},
   "source": [
    "# Gyroscope Integration\n",
    "Method of computing is gyroscopic intergration then store orientation data to CSV file"
   ]
  },
  {
   "cell_type": "code",
   "execution_count": 28,
   "metadata": {},
   "outputs": [],
   "source": [
    "read_file = open('visualization/data/VID_20220612_035819gyro.csv', 'r')\n",
    "write_file = open('visualization/data/VID_20220612_035819_orientation.csv',  'w+', newline=\"\")\n",
    "reader = csv.reader(read_file)\n",
    "writer = csv.writer(write_file)\n",
    "\n",
    "\"\"\"Loop through the gyro data file and get orientation\"\"\"\n",
    "orientation = np.array([0, 0, math.pi/2]) #in rad\n",
    "counter = 0\n",
    "t_prev = 0\n",
    "for row in reader:\n",
    "    if(counter == 0):\n",
    "        counter = 1\n",
    "        t_prev = int(row[3])\n",
    "        continue\n",
    "    orientation = getOrientation(orientation_curr=orientation, \n",
    "                                gyro=np.array([float(row[0]), float(row[1]),float(row[2])]), \n",
    "                                t_prev=t_prev, \n",
    "                                t_curr=int(row[3]))\n",
    "    o = orientation * (180/math.pi)\n",
    "    newEntry = np.array([o[0], o[1], o[2], row[3]])\n",
    "    writer.writerow(newEntry)\n",
    "\n",
    "read_file.close()\n",
    "write_file.close()\n"
   ]
  },
  {
   "cell_type": "markdown",
   "metadata": {},
   "source": [
    "# Process data to match video\n",
    "Process new data to match video frame\n",
    "[DEPRECATED]"
   ]
  },
  {
   "cell_type": "code",
   "execution_count": 36,
   "metadata": {},
   "outputs": [],
   "source": [
    "def getdTcsv(reader):\n",
    "    val = 0\n",
    "    counter = 0\n",
    "    for row in reader:\n",
    "        val = int(row[3]) - val\n",
    "        if counter == 1:\n",
    "            break\n",
    "        counter += 1\n",
    "    return val\n",
    "        "
   ]
  },
  {
   "cell_type": "code",
   "execution_count": 37,
   "metadata": {},
   "outputs": [],
   "source": [
    "fileName = 'VID_20220612_035819'\n",
    "\n",
    "read_file = open('visualization/data/' + fileName + '_orientation.csv', 'r')\n",
    "write_file = open('visualization/data/' + fileName + '_processed.csv',  'w+', newline=\"\")\n",
    "reader = csv.reader(read_file)\n",
    "writer = csv.writer(write_file)\n",
    "\n",
    "cap = cv2.VideoCapture('visualization/data/' + fileName + '.mp4')\n",
    "\n",
    "dt_csv = nanoToMilli(getdTcsv(reader)) #Assumed constant throughout entire CSV ()millisecond)\n",
    "curr_csv_time = 0 #Unit is in millisecond\n",
    "\n",
    "\"\"\"Loop through the gyro data file and get orientation\"\"\"\n",
    "frame_exists, curr_frame = cap.read() #Get first frame\n",
    "\n",
    "for row in reader: #Skip first row since no dt\n",
    "    if not frame_exists:\n",
    "        break\n",
    "    \n",
    "    frame_time = cap.get(cv2.CAP_PROP_POS_MSEC) #This time is in milliseconds\n",
    "    if curr_csv_time > frame_time:\n",
    "      #Add to new process CSV file and then go to next frame\n",
    "      writer.writerow(row)\n",
    "      frame_exists, curr_frame = cap.read()\n",
    "    elif (curr_csv_time + dt_csv > frame_time) and (curr_csv_time + float(dt_csv/2.0) <= frame_time):\n",
    "      #Add to new process CSV file and then go to next frame\n",
    "      writer.writerow(row)\n",
    "      frame_exists, curr_frame = cap.read()\n",
    "    curr_csv_time += dt_csv\n",
    "\n",
    "read_file.close()\n",
    "write_file.close()\n"
   ]
  },
  {
   "cell_type": "markdown",
   "metadata": {},
   "source": [
    "### Check if we have 1-on-1 matching"
   ]
  },
  {
   "cell_type": "code",
   "execution_count": 40,
   "metadata": {},
   "outputs": [],
   "source": [
    "fileName = 'VID_20220612_035819'\n",
    "#Check if number of rows in CSV matches number of frames so we have a 1-on-1 match\n",
    "with open('visualization/data/' + fileName + '_processed.csv') as file:\n",
    "    reader = csv.reader(file)\n",
    "    csv_data = list(reader)\n",
    "\n",
    "total_frames = cap.get(cv2.CAP_PROP_FRAME_COUNT)\n",
    "assert(total_frames == len(csv_data))"
   ]
  },
  {
   "cell_type": "markdown",
   "metadata": {},
   "source": [
    "# Sensor Fusion Orientation"
   ]
  },
  {
   "cell_type": "code",
   "execution_count": 1,
   "metadata": {},
   "outputs": [],
   "source": [
    "import csv\n",
    "import math\n",
    "import numpy as np\n",
    "import cv2"
   ]
  },
  {
   "cell_type": "code",
   "execution_count": null,
   "metadata": {},
   "outputs": [],
   "source": []
  }
 ],
 "metadata": {
  "interpreter": {
   "hash": "fdc0ec388fb84f2b452f3beaed96b3d66d8f92940ccc41d2ca9412cc69c57c23"
  },
  "kernelspec": {
   "display_name": "Python 3.7.11 ('tensorflow')",
   "language": "python",
   "name": "python3"
  },
  "language_info": {
   "codemirror_mode": {
    "name": "ipython",
    "version": 3
   },
   "file_extension": ".py",
   "mimetype": "text/x-python",
   "name": "python",
   "nbconvert_exporter": "python",
   "pygments_lexer": "ipython3",
   "version": "3.7.11"
  },
  "orig_nbformat": 4
 },
 "nbformat": 4,
 "nbformat_minor": 2
}
