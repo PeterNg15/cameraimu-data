version https://git-lfs.github.com/spec/v1
oid sha256:5f829070b9dfc3cfc09ff43e3c72ac96fa925ba8285dc14db5d00c38fc0151d0
size 1352
