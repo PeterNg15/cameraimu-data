{
 "cells": [
  {
   "cell_type": "code",
   "execution_count": null,
   "metadata": {},
   "outputs": [],
   "source": [
    "import numpy as np\n",
    "import matplotlib as mpl\n",
    "import matplotlib.pyplot as plt\n",
    "import cv2\n",
    "from mpl_toolkits.mplot3d import Axes3D\n",
    "import matplotlib.animation as animation\n",
    "from matplotlib import cm\n",
    "from scipy import ndimage\n",
    "import math\n",
    "import csv\n",
    "import time"
   ]
  },
  {
   "cell_type": "code",
   "execution_count": 10,
   "metadata": {},
   "outputs": [
    {
     "name": "stdout",
     "output_type": "stream",
     "text": [
      "68.73333333333333\n"
     ]
    }
   ],
   "source": [
    "import cv2\n",
    "\n",
    "cap = cv2.VideoCapture('visualization/data/VID_20220612_035819.mp4')\n",
    "frame_exists, curr_frame = cap.read()\n",
    "frame_exists, curr_frame = cap.read()\n",
    "print(cap.get(cv2.CAP_PROP_POS_MSEC))\n",
    "\n",
    "while(cap.isOpened()):\n",
    "    frame_exists, curr_frame = cap.read()\n",
    "    if frame_exists:\n",
    "        frame_time = cap.get(cv2.CAP_PROP_POS_MSEC) #Current position of the video file in milliseconds\n",
    "    else:\n",
    "        break\n",
    "\n",
    "cap.release()"
   ]
  },
  {
   "cell_type": "code",
   "execution_count": null,
   "metadata": {},
   "outputs": [],
   "source": [
    "def animate(i):\n",
    "    read_file = open('D:/Research/UMass Computer Vision Lab/Rotation Estimation/cameraimu_data_repo/visualization/data/VID_20220612_035819_orientation.csv', 'r+')\n",
    "    reader = csv.reader(read_file)\n",
    "    \n",
    "    orientation = next((x for i, x in enumerate(reader) if i == i), None) #orientation at i'th row\n",
    "    rotationMatrix = getAxisVectors(x=float(orientation[0]), y=float(orientation[1]),z=float(orientation[2]))\n",
    "    if i == 0:\n",
    "        print(rotationMatrix)\n",
    "    updateOrientation(rotationMatrix)\n",
    "\n",
    "    _, curr_frame = cap.read()\n",
    "    RGB_img = cv2.cvtColor(curr_frame, cv2.COLOR_BGR2RGB)\n",
    "    Rotated_img = ndimage.rotate(RGB_img, 180)\n",
    "\n",
    "    ay.imshow(Rotated_img)"
   ]
  },
  {
   "cell_type": "code",
   "execution_count": null,
   "metadata": {},
   "outputs": [],
   "source": [
    "fig = plt.figure()\n",
    "plt.rcParams[\"figure.autolayout\"] = True\n",
    "ax = fig.add_subplot(121, projection='3d')\n",
    "# ay = fig.add_subplot(121)\n",
    "\n",
    "ax.set_xlim3d([-1.5,1.5])\n",
    "ax.set_ylim3d([-1.5,1.5])\n",
    "ax.set_zlim3d([-1.5,1.5])\n",
    "\n",
    "# ay.set_xlim([0,1920])\n",
    "# ay.set_ylim([0,1080])\n",
    "\n",
    "ax.set_xlabel('x')\n",
    "ax.set_ylabel('y')\n",
    "ax.set_zlabel('z')\n",
    "\n",
    "\"\"\"Initiation orientation\"\"\"\n",
    "quiver_x = ax.quiver(0,0,0,1,0,0,color='g')\n",
    "quiver_y = ax.quiver(0,0,0,0,1,0,color='r')\n",
    "quiver_z = ax.quiver(0,0,0,0,0,1,color='b')\n",
    "\n",
    "\"\"\"Animation\"\"\"\n",
    "# fileName = 'VID_20220612_035819'\n",
    "# cap = cv2.VideoCapture('D:/Research/UMass Computer Vision Lab/Rotation Estimation/cameraimu_data_repo/visualization/data/' + fileName + '.mp4')\n",
    "   \n",
    "ani = animation.FuncAnimation(fig, animate, frames=129, interval=20)\n",
    "fig.tight_layout()\n",
    "plt.show()"
   ]
  }
 ],
 "metadata": {
  "interpreter": {
   "hash": "fdc0ec388fb84f2b452f3beaed96b3d66d8f92940ccc41d2ca9412cc69c57c23"
  },
  "kernelspec": {
   "display_name": "Python 3.7.11 ('tensorflow')",
   "language": "python",
   "name": "python3"
  },
  "language_info": {
   "codemirror_mode": {
    "name": "ipython",
    "version": 3
   },
   "file_extension": ".py",
   "mimetype": "text/x-python",
   "name": "python",
   "nbconvert_exporter": "python",
   "pygments_lexer": "ipython3",
   "version": "3.7.11"
  },
  "orig_nbformat": 4
 },
 "nbformat": 4,
 "nbformat_minor": 2
}
