{
 "cells": [
  {
   "cell_type": "markdown",
   "metadata": {},
   "source": [
    "# Move video file to folder"
   ]
  },
  {
   "cell_type": "code",
   "execution_count": 30,
   "metadata": {},
   "outputs": [],
   "source": [
    "import os\n",
    "import glob\n",
    "import shutil\n",
    "import pathlib\n",
    "\n",
    "for url in glob.glob(os.getcwd() + \"/data/*.mp4\"):\n",
    "    fileName = os.path.basename(url).rsplit( \".\", 1 )[ 0 ].replace('VID_', '')\n",
    "    if(os.path.exists(url)):\n",
    "        shutil.move(url, str(pathlib.Path().resolve()) + \"\\\\data\\\\\" + fileName)"
   ]
  },
  {
   "cell_type": "markdown",
   "metadata": {},
   "source": [
    "# Compute orientation from Gyro"
   ]
  },
  {
   "cell_type": "code",
   "execution_count": 2,
   "metadata": {},
   "outputs": [],
   "source": [
    "import csv\n",
    "import math\n",
    "import numpy as np\n",
    "import cv2\n",
    "from scipy import integrate\n",
    "import matplotlib.pyplot as plt\n",
    "\n",
    "def computeOrientation(fileName, displayGraph=False):\n",
    "    gyroX, gyroY, gyroZ, time = [], [], [], []\n",
    "    dt = 1/400 #400Hz\n",
    "\n",
    "    data_file = open(os.getcwd() + \"/data/\" + fileName + '/VID_' + fileName + 'gyro.csv',  'r')\n",
    "    orientation_file = open(os.getcwd() + \"/data/\" + fileName + '/VID_' + fileName + 'orientation.csv',  'w+', newline=\"\")\n",
    "\n",
    "    data_reader = csv.reader(data_file)\n",
    "    writer = csv.writer(orientation_file)\n",
    "\n",
    "    t_init, t_final, counter = 0, 0, 0\n",
    "    \n",
    "    for row in data_reader:\n",
    "        gyroX.append(float(row[0]))\n",
    "        gyroY.append(float(row[1]))\n",
    "        gyroZ.append(float(row[2]))\n",
    "        time.append(int(row[3]))\n",
    "        \n",
    "        t_final = int(row[3])\n",
    "        counter += 1\n",
    "        if t_init == 0:\n",
    "            t_init = int(row[3])\n",
    "\n",
    "\n",
    "    x = np.linspace(0, abs(t_final - t_init)/1e9, num=counter)\n",
    "    X_int = integrate.cumtrapz(gyroX, dx=dt, initial=0)\n",
    "    Y_int = integrate.cumtrapz(gyroY, dx=dt, initial=0)\n",
    "    Z_int = integrate.cumtrapz(gyroZ, dx=dt, initial=0)\n",
    "\n",
    "    if displayGraph:\n",
    "        plt.plot(x, X_int*(180/math.pi), color=\"g\", label=\"x\")\n",
    "        plt.plot(x, Y_int*(180/math.pi), color=\"r\", label=\"y\")\n",
    "        plt.plot(x, Z_int*(180/math.pi), color=\"b\", label=\"z\")\n",
    "        plt.xlabel('time (s)')\n",
    "        plt.ylabel('orientation (degree)') \n",
    "        plt.legend()\n",
    "        plt.title(\"Rotation of the file: \" + fileName)\n",
    "        plt.show()\n",
    "\n",
    "\n",
    "    for i in range(len(time)):\n",
    "        writer.writerow([X_int[i]*(180/math.pi), Y_int[i]*(180/math.pi), Z_int[i]*(180/math.pi), time[i], gyroX[i], gyroY[i], gyroZ[i]])\n",
    "\n",
    "    data_file.close()\n",
    "    orientation_file.close()"
   ]
  },
  {
   "cell_type": "markdown",
   "metadata": {},
   "source": [
    "## For specific file"
   ]
  },
  {
   "cell_type": "code",
   "execution_count": 78,
   "metadata": {},
   "outputs": [
    {
     "data": {
      "image/png": "[encoded data removed]",
      "text/plain": [
       "<Figure size 432x288 with 1 Axes>"
      ]
     },
     "metadata": {
      "needs_background": "light"
     },
     "output_type": "display_data"
    }
   ],
   "source": [
    "computeOrientation(fileName=\"20220713_113701\", displayGraph=True)"
   ]
  },
  {
   "cell_type": "markdown",
   "metadata": {},
   "source": [
    "## For entire dataset"
   ]
  },
  {
   "cell_type": "code",
   "execution_count": 25,
   "metadata": {},
   "outputs": [],
   "source": [
    "import os \n",
    "import time\n",
    "from IPython.display import clear_output\n",
    "\n",
    "displayGraph = False\n",
    "\n",
    "dataset_list = os.listdir(os.getcwd() + \"/data\")\n",
    "\n",
    "for file in dataset_list:\n",
    "    if file == \".DS_Store\":\n",
    "        continue\n",
    "    computeOrientation(fileName=file, displayGraph=displayGraph)\n",
    "    if displayGraph:\n",
    "        time.sleep(1)\n",
    "        os.system('clear')\n",
    "        clear_output(wait=True)"
   ]
  },
  {
   "cell_type": "markdown",
   "metadata": {},
   "source": [
    "# Sync orientation to video frame"
   ]
  },
  {
   "cell_type": "code",
   "execution_count": 315,
   "metadata": {},
   "outputs": [],
   "source": [
    "import csv\n",
    "import math\n",
    "import numpy as np\n",
    "import cv2\n",
    "\n",
    "def processData(fileName, sensorType):\n",
    "\n",
    "    time_file, data_file, data_processed = \"\", \"\", \"\"\n",
    "\n",
    "    try:\n",
    "        time_file = open(os.getcwd() + \"/data/\" +  fileName+ '/VID_' + fileName  + '_imu_timestamps.csv', 'r')\n",
    "        data_file = open(os.getcwd() + \"/data/\" +  fileName+ '/VID_' + fileName  +  sensorType + '.csv', 'r')\n",
    "        data_processed = open(os.getcwd() + \"/data/\" +  fileName+ '/VID_' + fileName  + \"_sync_\" + sensorType + '.csv',  'w+', newline=\"\")\n",
    "    except:\n",
    "        print(\"Some files in \" + fileName + \" are missing\")\n",
    "        return\n",
    "        \n",
    "    time_reader = csv.reader(time_file)\n",
    "    data_reader = csv.reader(data_file)\n",
    "\n",
    "    writer = csv.writer(data_processed)\n",
    "    writer.writerow([\"Rot_X (deg)\", \"Rot_Y (deg)\", \"Rot_Z (deg)\", \"Gyro_Time (ns)\", \"Gyro_X\", \"Gyro_Y\", \"Gyro_Z\"])\n",
    "\n",
    "    \"\"\"Loop through the time data file and the gyro file; Then add the ones in gyro that have closest timestamp to the timestamp file\"\"\"\n",
    "    #Time list\n",
    "    time_list = list(time_reader)\n",
    "    frame_counter = 0\n",
    "\n",
    "    \"\"\"GYRO/ACC/MAG\"\"\"\n",
    "    data_processed = list() #This will be the list we will export as a CSV\n",
    "    data_set = set() #Only add matched timestamp here\n",
    "\n",
    "    \"\"\"First entry\"\"\"\n",
    "    first_orientation = []\n",
    "\n",
    "    for row in data_reader:\n",
    "        if frame_counter == len(time_list):\n",
    "            break\n",
    "\n",
    "        target_time = int(time_list[frame_counter][0]) #This will get the target timestamp\n",
    "        if len(data_processed) == 0:\n",
    "            data_processed.append(row)\n",
    "            continue\n",
    "        \n",
    "        #   If the current time from gyro_csv file has a smaller time difference than that in the\n",
    "        #   data_processed list. Then we replace\n",
    "        if (abs(int(row[3]) - target_time) < abs(int(data_processed[-1][3]) - target_time)):\n",
    "            #Check set to see if previous time is already matched; We don't want it to be matched already\n",
    "            if int(data_processed[-1][3]) not in data_set:\n",
    "                #Replace with timestamp that has smaller time diff\n",
    "                data_processed[-1] = row \n",
    "        else:\n",
    "            #Add last element in the processed list to the data_set to confirm it's been matched\n",
    "            frame_counter += 1\n",
    "            data_set.add(int(data_processed[-1][3]))\n",
    "            # orientation_row = [float(data_processed[-1][0]),float(data_processed[-1][1]),float(data_processed[-1][2])]\n",
    "            orientation_row = np.array(data_processed[-1]).astype(float)\n",
    "            if first_orientation == []:\n",
    "                first_orientation = np.array(orientation_row)\n",
    "            orientation_row[0] -= first_orientation[0]\n",
    "            orientation_row[1] -= first_orientation[1]\n",
    "            orientation_row[2] -= first_orientation[2]\n",
    "\n",
    "            #Add this element to the CSV file as well\n",
    "            writer.writerow(orientation_row)\n",
    "            #Then add current row to data_processed\n",
    "            data_processed.append(row)\n",
    "\n",
    "    assert(len(data_processed)-1 == len(time_list))\n",
    "\n",
    "    time_file.close()\n",
    "    data_file.close()\n"
   ]
  },
  {
   "cell_type": "markdown",
   "metadata": {},
   "source": [
    "## For specific file"
   ]
  },
  {
   "cell_type": "code",
   "execution_count": 38,
   "metadata": {},
   "outputs": [
    {
     "name": "stderr",
     "output_type": "stream",
     "text": [
      "c:\\Users\\PeterNg\\Anaconda3\\envs\\tensorflow\\lib\\site-packages\\ipykernel_launcher.py:52: DeprecationWarning: elementwise comparison failed; this will raise an error in the future.\n",
      "c:\\Users\\PeterNg\\Anaconda3\\envs\\tensorflow\\lib\\site-packages\\ipykernel_launcher.py:52: DeprecationWarning: elementwise comparison failed; this will raise an error in the future.\n"
     ]
    }
   ],
   "source": [
    "processData(fileName=\"20220713_090357\", sensorType=\"orientation\")"
   ]
  },
  {
   "cell_type": "markdown",
   "metadata": {},
   "source": [
    "## For entire dataset"
   ]
  },
  {
   "cell_type": "code",
   "execution_count": 39,
   "metadata": {},
   "outputs": [
    {
     "name": "stderr",
     "output_type": "stream",
     "text": [
      "c:\\Users\\PeterNg\\Anaconda3\\envs\\tensorflow\\lib\\site-packages\\ipykernel_launcher.py:52: DeprecationWarning: elementwise comparison failed; this will raise an error in the future.\n"
     ]
    }
   ],
   "source": [
    "import os \n",
    "import time\n",
    "from IPython.display import clear_output\n",
    "\n",
    "\n",
    "dataset_list = os.listdir(os.getcwd() + \"/data\")\n",
    "\n",
    "for file in dataset_list:\n",
    "    if file == \".DS_Store\":\n",
    "        continue\n",
    "    processData(fileName=file, sensorType=\"orientation\")"
   ]
  },
  {
   "cell_type": "markdown",
   "metadata": {},
   "source": [
    "# Check orientation-to-frame accuracy"
   ]
  },
  {
   "cell_type": "code",
   "execution_count": 13,
   "metadata": {},
   "outputs": [
    {
     "name": "stdout",
     "output_type": "stream",
     "text": [
      "Max offset error: 1.210829ms\n",
      "Min offset error: -1.225291ms\n"
     ]
    }
   ],
   "source": [
    "import numpy as np\n",
    "fileName = \"20220713_090421\"\n",
    "\n",
    "time_file = open(os.getcwd() + \"/data/\" +  fileName+ '/VID_' + fileName  + '_imu_timestamps.csv', 'r')\n",
    "sync_file = open(os.getcwd() + \"/data/\" +  fileName+ '/VID_' + fileName  + \"_sync_orientation.csv\",  'r')\n",
    "\n",
    "time_reader = csv.reader(time_file)\n",
    "sync_reader = csv.reader(sync_file)\n",
    "\n",
    "time_list = list(time_reader)\n",
    "sync_list = list(sync_reader)[1:]\n",
    "\n",
    "maxVal = -np.infty\n",
    "minVal = np.infty\n",
    "\n",
    "for i in range(len(time_list)):\n",
    "    diff = float(time_list[i][0]) - float(sync_list[i][3])\n",
    "    maxVal = max(diff, maxVal)\n",
    "    minVal = min(diff, minVal)\n",
    "\n",
    "print(\"Max offset error: \" + str(maxVal/1e6) + \"ms\")\n",
    "print(\"Min offset error: \" + str(minVal/1e6) + \"ms\")"
   ]
  },
  {
   "cell_type": "markdown",
   "metadata": {},
   "source": [
    "# Compute Quaternion From Gyroscope"
   ]
  },
  {
   "cell_type": "code",
   "execution_count": 12,
   "metadata": {},
   "outputs": [],
   "source": [
    "import csv\n",
    "import math\n",
    "import numpy as np\n",
    "import cv2\n",
    "from scipy import integrate\n",
    "import matplotlib.pyplot as plt\n",
    "import mathutils\n",
    "\n",
    "def quaternionProduct(q1, q2):\n",
    "    w0, x0, y0, z0 = q1\n",
    "    w1, x1, y1, z1 = q2\n",
    "    return np.array([-x1 * x0 - y1 * y0 - z1 * z0 + w1 * w0,\n",
    "                     x1 * w0 + y1 * z0 - z1 * y0 + w1 * x0,\n",
    "                     -x1 * z0 + y1 * w0 + z1 * x0 + w1 * y0,\n",
    "                     x1 * y0 - y1 * x0 + z1 * w0 + w1 * z0], dtype=np.float64)\n",
    "\n",
    "def quaternionNormalize(pose_initial, q_grad, dt=1/400):\n",
    "    quat = mathutils.Quaternion(np.asarray(pose_initial, dtype=np.float64) + dt * q_grad)\n",
    "    return quat.normalized()\n",
    "\n",
    "\n",
    "def euler_from_quaternion(x, y, z, w):\n",
    "        \"\"\"\n",
    "        Convert a quaternion into euler angles (roll, pitch, yaw)\n",
    "        roll is rotation around x in radians (counterclockwise)\n",
    "        pitch is rotation around y in radians (counterclockwise)\n",
    "        yaw is rotation around z in radians (counterclockwise)\n",
    "        source: https://stackoverflow.com/questions/56207448/efficient-quaternions-to-euler-transformation\n",
    "        \"\"\"\n",
    "        if w == 1:\n",
    "            return 0,0,0\n",
    "        roll_x = np.arctan2(y*z + x*w, 0.5 - z*z - w*w)\n",
    "        pitch_y = np.arcsin(2.0 * (y*w - x*z))\n",
    "        yaw_z = np.arctan2(2*(w*z+x*y), 1-2*(y*y+z*z))\n",
    "          \n",
    "        return roll_x, pitch_y, yaw_z # in radians\n",
    "\n",
    "def computeQuaternion(fileName, displayGraph=False):\n",
    "    quat_gyro = [0] * 4\n",
    "    pose_initial = [0] * 4\n",
    "    t_init, t_final, counter = 0, 0, 0\n",
    "    dt = 1/400\n",
    "\n",
    "    data_file = open(os.getcwd() + \"/data/\" + fileName + '/VID_' + fileName + 'gyro.csv',  'r')\n",
    "    quat_file = open(os.getcwd() + \"/data/\" + fileName + '/VID_' + fileName + 'quaternion.csv',  'w+', newline=\"\")\n",
    "    quat_euler_file = open(os.getcwd() + \"/data/\" + fileName + '/VID_' + fileName + 'quaternion_euler.csv',  'w+', newline=\"\")\n",
    "\n",
    "    data_reader = csv.reader(data_file)\n",
    "    writer = csv.writer(quat_file)\n",
    "    euler_writer = csv.writer(quat_euler_file)\n",
    "\n",
    "    q = []\n",
    "    roll_list, pitch_list, yaw_list = list(), list(), list()\n",
    "\n",
    "    #CSV Headers: qx, qy, qz, qw, time, gx, gy, gz\n",
    "    for row in data_reader:\n",
    "        if counter == 0:\n",
    "            writer.writerow([0,0,0,0,int(row[3]), float(row[0]), float(row[1]), float(row[2])])\n",
    "            q = [1,0,0,0]\n",
    "        else:\n",
    "            quat_gyro = list(np.array([0.0, float(row[0]), float(row[1]), float(row[2])]).astype(np.float64))\n",
    "            q_grad = 0.5 * quaternionProduct(pose_initial, quat_gyro)\n",
    "            new_pose = quaternionNormalize(pose_initial,q_grad,dt=dt)\n",
    "            # delta_quat = [1, 0.5*dt*float(row[0]), 0.5*dt*float(row[1]), 0.5*dt*float(row[2])]\n",
    "            # new_pose = quaternionProduct(pose_initial, delta_quat)\n",
    "            writer.writerow([new_pose[0], new_pose[1], new_pose[2], new_pose[3], int(row[3]), float(row[0]), float(row[1]), float(row[2])])\n",
    "            pose_initial, q = new_pose, new_pose\n",
    "        counter += 1\n",
    "\n",
    "        if displayGraph:\n",
    "            \"\"\"Quaternrion to Euler\"\"\"\n",
    "            roll,pitch,yaw = euler_from_quaternion(x=q[1],y=q[2],z=q[3],w=q[0])\n",
    "            roll_list.append(roll)\n",
    "            pitch_list.append(pitch)\n",
    "            yaw_list.append(yaw)\n",
    "\n",
    "            euler_writer.writerow([roll*(-180/math.pi), pitch*(180/math.pi), yaw*(180/math.pi), int(row[3])])\n",
    "\n",
    "            \"\"\"Time\"\"\"\n",
    "            t_final = int(row[3])\n",
    "            if t_init == 0:\n",
    "                t_init = int(row[3])\n",
    "\n",
    "\n",
    "    if displayGraph:\n",
    "        x = np.linspace(0, abs(t_final - t_init)/1e9, num=counter)\n",
    "        plt.plot(x, np.asarray(roll_list)*(-180/math.pi), color=\"g\", label=\"x\")\n",
    "        plt.plot(x, np.asarray(pitch_list)*(180/math.pi), color=\"r\", label=\"y\")\n",
    "        plt.plot(x, np.asarray(yaw_list)*(180/math.pi), color=\"b\", label=\"z\")\n",
    "        plt.xlabel('time (s)')\n",
    "        plt.ylabel('orientation (degree)') \n",
    "        plt.legend()\n",
    "        plt.title(\"Rotation of the file: \" + fileName)\n",
    "        plt.show()\n",
    "\n",
    "    data_file.close()\n",
    "    quat_file.close()   \n",
    "    quat_euler_file.close()"
   ]
  },
  {
   "cell_type": "markdown",
   "metadata": {},
   "source": [
    "# For a specific file"
   ]
  },
  {
   "cell_type": "code",
   "execution_count": 13,
   "metadata": {},
   "outputs": [
    {
     "data": {
      "image/png": "[encoded data removed]",
      "text/plain": [
       "<Figure size 432x288 with 1 Axes>"
      ]
     },
     "metadata": {
      "needs_background": "light"
     },
     "output_type": "display_data"
    }
   ],
   "source": [
    "fileName = \"20220719_165029\"\n",
    "computeQuaternion(fileName=fileName, displayGraph=True)\n",
    "\n",
    "\"\"\"\n",
    "Exceptions:\n",
    "20220713_113701\n",
    "20220713_114353\n",
    "20220713_134934\n",
    "20220713_134943\n",
    "\"\"\";"
   ]
  },
  {
   "cell_type": "markdown",
   "metadata": {},
   "source": [
    "# Sync Quaternion To Video Frame"
   ]
  },
  {
   "cell_type": "code",
   "execution_count": 10,
   "metadata": {},
   "outputs": [],
   "source": [
    "import csv\n",
    "import math\n",
    "import numpy as np\n",
    "import cv2\n",
    "from decimal import Decimal\n",
    "\n",
    "def quaternionProduct(q1, q2):\n",
    "    w0, x0, y0, z0 = q1\n",
    "    w1, x1, y1, z1 = q2\n",
    "    return np.array([-x1 * x0 - y1 * y0 - z1 * z0 + w1 * w0,\n",
    "                     x1 * w0 + y1 * z0 - z1 * y0 + w1 * x0,\n",
    "                     -x1 * z0 + y1 * w0 + z1 * x0 + w1 * y0,\n",
    "                     x1 * y0 - y1 * x0 + z1 * w0 + w1 * z0], dtype=np.float64)\n",
    "\n",
    "def processQuaternion(fileName, sensorType=\"quaternion\"):\n",
    "\n",
    "    time_file, data_file, data_processed = \"\", \"\", \"\"\n",
    "\n",
    "    try:\n",
    "        time_file = open(os.getcwd() + \"/data/\" +  fileName+ '/VID_' + fileName  + '_imu_timestamps.csv', 'r')\n",
    "        data_file = open(os.getcwd() + \"/data/\" +  fileName+ '/VID_' + fileName  +  sensorType + '.csv', 'r')\n",
    "        data_processed = open(os.getcwd() + \"/data/\" +  fileName+ '/VID_' + fileName  + \"_sync_\" + sensorType + '.csv',  'w+', newline=\"\")\n",
    "    except:\n",
    "        print(\"Some files in \" + fileName + \" are missing\")\n",
    "        return\n",
    "        \n",
    "    time_reader = csv.reader(time_file)\n",
    "    data_reader = csv.reader(data_file)\n",
    "\n",
    "    writer = csv.writer(data_processed)\n",
    "    writer.writerow([\"qw\", \"qx\", \"qy\", \"qz\", \"Gyro_Time (ns)\"])\n",
    "\n",
    "    \"\"\"Loop through the time data file and the gyro file; Then add the ones in gyro that have closest timestamp to the timestamp file\"\"\"\n",
    "    #Time list\n",
    "    time_list = list(time_reader)\n",
    "    frame_counter = 0\n",
    "\n",
    "    \"\"\"GYRO/ACC/MAG\"\"\"\n",
    "    data_processed = list() #This will be the list we will export as a CSV\n",
    "    data_set = set() #Only add matched timestamp here\n",
    "\n",
    "    \"\"\"First entry\"\"\"\n",
    "    first_q = []\n",
    "\n",
    "    for row in data_reader:\n",
    "        if frame_counter == len(time_list):\n",
    "            break\n",
    "\n",
    "        target_time = int(time_list[frame_counter][0]) #This will get the target timestamp\n",
    "        if len(data_processed) == 0:\n",
    "            data_processed.append(row)\n",
    "            continue\n",
    "        \n",
    "        #   If the current time from gyro_csv file has a smaller time difference than that in the\n",
    "        #   data_processed list. Then we replace\n",
    "        if (abs(int(row[4]) - target_time) < abs(int(data_processed[-1][4]) - target_time)):\n",
    "            #Check set to see if previous time is already matched; We don't want it to be matched already\n",
    "            if int(data_processed[-1][4]) not in data_set:\n",
    "                #Replace with timestamp that has smaller time diff\n",
    "                data_processed[-1] = row \n",
    "        else:\n",
    "            #Add last element in the processed list to the data_set to confirm it's been matched\n",
    "            frame_counter += 1\n",
    "            data_set.add(int(data_processed[-1][4]))\n",
    "            q = np.array(data_processed[-1]).astype(np.float64)\n",
    "            if first_q == []:\n",
    "                first_q = np.array(q[:4])\n",
    "            # else:\n",
    "            q_conj = np.array([first_q[0], -1*first_q[1], -1*first_q[2], -1*first_q[3]])\n",
    "            q_inv = q_conj / pow(np.linalg.norm(q[:4]),2)\n",
    "            q_relative = quaternionProduct(q[:4], q_inv)\n",
    "                \n",
    "            #Add this element to the CSV file as well\n",
    "            writer.writerow([q_relative[0],q_relative[1],q_relative[2],q_relative[3],q[4]])\n",
    "            #Then add current row to data_processed\n",
    "            data_processed.append(row)\n",
    "\n",
    "    assert(len(data_processed)-1 == len(time_list))\n",
    "\n",
    "    time_file.close()\n",
    "    data_file.close()\n"
   ]
  },
  {
   "cell_type": "markdown",
   "metadata": {},
   "source": [
    "## For a Specific File"
   ]
  },
  {
   "cell_type": "code",
   "execution_count": 14,
   "metadata": {},
   "outputs": [
    {
     "name": "stderr",
     "output_type": "stream",
     "text": [
      "c:\\Users\\PeterNg\\Anaconda3\\envs\\tensorflow\\lib\\site-packages\\ipykernel_launcher.py:66: DeprecationWarning: elementwise comparison failed; this will raise an error in the future.\n"
     ]
    }
   ],
   "source": [
    "processQuaternion(fileName=\"20220719_165029\", sensorType=\"quaternion\")"
   ]
  },
  {
   "cell_type": "markdown",
   "metadata": {},
   "source": [
    "# Visualize"
   ]
  },
  {
   "cell_type": "code",
   "execution_count": 1,
   "metadata": {},
   "outputs": [
    {
     "name": "stdout",
     "output_type": "stream",
     "text": [
      "pygame 2.1.2 (SDL 2.0.18, Python 3.7.11)\n",
      "Hello from the pygame community. https://www.pygame.org/contribute.html\n",
      "fps: 28\n"
     ]
    },
    {
     "ename": "NameError",
     "evalue": "name 'exit' is not defined",
     "output_type": "error",
     "traceback": [
      "\u001b[1;31m---------------------------------------------------------------------------\u001b[0m",
      "\u001b[1;31mNameError\u001b[0m                                 Traceback (most recent call last)",
      "\u001b[1;32m~\\AppData\\Local\\Temp\\ipykernel_22548\\883521317.py\u001b[0m in \u001b[0;36m<module>\u001b[1;34m\u001b[0m\n\u001b[0;32m      1\u001b[0m \u001b[1;32mimport\u001b[0m \u001b[0mvisualize\u001b[0m\u001b[1;33m\u001b[0m\u001b[1;33m\u001b[0m\u001b[0m\n\u001b[1;32m----> 2\u001b[1;33m \u001b[0mvisualize\u001b[0m\u001b[1;33m.\u001b[0m\u001b[0mmain\u001b[0m\u001b[1;33m(\u001b[0m\u001b[0mfileName\u001b[0m\u001b[1;33m=\u001b[0m\u001b[1;34m\"20220713_114353\"\u001b[0m\u001b[1;33m)\u001b[0m\u001b[1;33m\u001b[0m\u001b[1;33m\u001b[0m\u001b[0m\n\u001b[0m",
      "\u001b[1;32md:\\Research\\UMass Computer Vision Lab\\Rotation Estimation\\cameraimu_data_repo\\dataset\\visualize.py\u001b[0m in \u001b[0;36mmain\u001b[1;34m(fileName)\u001b[0m\n\u001b[0;32m     73\u001b[0m     \u001b[1;31m# pygame.quit()\u001b[0m\u001b[1;33m\u001b[0m\u001b[1;33m\u001b[0m\u001b[1;33m\u001b[0m\u001b[0m\n\u001b[0;32m     74\u001b[0m     \u001b[1;31m# cv2.destroyAllWindows()\u001b[0m\u001b[1;33m\u001b[0m\u001b[1;33m\u001b[0m\u001b[1;33m\u001b[0m\u001b[0m\n\u001b[1;32m---> 75\u001b[1;33m     \u001b[0mexit\u001b[0m\u001b[1;33m\u001b[0m\u001b[1;33m\u001b[0m\u001b[0m\n\u001b[0m\u001b[0;32m     76\u001b[0m \u001b[1;33m\u001b[0m\u001b[0m\n\u001b[0;32m     77\u001b[0m \u001b[1;33m\u001b[0m\u001b[0m\n",
      "\u001b[1;31mNameError\u001b[0m: name 'exit' is not defined"
     ]
    }
   ],
   "source": [
    "import visualize\n",
    "visualize.main(fileName=\"20220713_114353\")"
   ]
  }
 ],
 "metadata": {
  "interpreter": {
   "hash": "fdc0ec388fb84f2b452f3beaed96b3d66d8f92940ccc41d2ca9412cc69c57c23"
  },
  "kernelspec": {
   "display_name": "Python 3.7.11 ('tensorflow')",
   "language": "python",
   "name": "python3"
  },
  "language_info": {
   "codemirror_mode": {
    "name": "ipython",
    "version": 3
   },
   "file_extension": ".py",
   "mimetype": "text/x-python",
   "name": "python",
   "nbconvert_exporter": "python",
   "pygments_lexer": "ipython3",
   "version": "3.7.11"
  },
  "orig_nbformat": 4
 },
 "nbformat": 4,
 "nbformat_minor": 2
}
